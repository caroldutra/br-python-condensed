{
  "nbformat": 4,
  "nbformat_minor": 0,
  "metadata": {
    "colab": {
      "name": "Cópia de Copy of python_exercises_02.ipynb RESOLVIDO",
      "provenance": [],
      "collapsed_sections": [],
      "include_colab_link": true
    },
    "kernelspec": {
      "name": "python3",
      "display_name": "Python 3"
    }
  },
  "cells": [
    {
      "cell_type": "markdown",
      "metadata": {
        "id": "view-in-github",
        "colab_type": "text"
      },
      "source": [
        "<a href=\"https://colab.research.google.com/github/caroldutra/br-python-condensed/blob/main/C%C3%B3pia_de_Copy_of_python_exercises_02_ipynb_RESOLVIDO.ipynb\" target=\"_parent\"><img src=\"https://colab.research.google.com/assets/colab-badge.svg\" alt=\"Open In Colab\"/></a>"
      ]
    },
    {
      "cell_type": "markdown",
      "metadata": {
        "id": "8YqaSZgXYJ5g"
      },
      "source": [
        "![](https://i.imgur.com/YX6UATs.png)\n"
      ]
    },
    {
      "cell_type": "markdown",
      "metadata": {
        "id": "hhUVzDipaGb9"
      },
      "source": [
        "### **Exercícios de Python - 2** \n",
        "\n",
        "\n",
        "\n"
      ]
    },
    {
      "cell_type": "markdown",
      "metadata": {
        "id": "c62cM2VlKFqN"
      },
      "source": [
        "1 - Faça um programa que leia um nome de usuário e a sua senha e não aceite a senha igual ao nome do usuário, mostrando uma mensagem de erro."
      ]
    },
    {
      "cell_type": "code",
      "metadata": {
        "id": "A3ajzaOSq69B"
      },
      "source": [
        "Usuário = input('digite o seu usuário ')\r\n",
        "Senha = input('digite a sua senha ')\r\n",
        "if Usuário == Senha:\r\n",
        "  print('ERRO: O usuário não pode ser igual a sua senha')"
      ],
      "execution_count": null,
      "outputs": []
    },
    {
      "cell_type": "markdown",
      "metadata": {
        "id": "qMGp-h8OaGqr"
      },
      "source": [
        "2 - Utilizando listas faça um programa que faça 5 perguntas para uma pessoa sobre um crime. As perguntas são:\n",
        "- \"Telefonou para a vítima?\"\n",
        "- \"Esteve no local do crime?\"\n",
        "- \"Mora perto da vítima?\"\n",
        "- \"Devia para a vítima?\"\n",
        "- \"Já trabalhou com a vítima?\" \\\n",
        "O programa deve no final emitir uma classificação sobre a participação da pessoa no crime. Se a pessoa responder positivamente a 2 questões ela deve ser classificada como \"Suspeita\", entre 3 e 4 como \"Cúmplice\" e 5 como \"Assassino\". Caso contrário, ele será classificado como \"Inocente\"."
      ]
    },
    {
      "cell_type": "code",
      "metadata": {
        "id": "hw0KcgS7L2qy",
        "colab": {
          "base_uri": "https://localhost:8080/"
        },
        "outputId": "0c36dd77-1692-4eeb-8177-77db03c71dc5"
      },
      "source": [
        "res1 = input(\"Telefonou para a vítima? 1/sim 0/nao \")\r\n",
        "res2 = input(\"Esteve no local do crime? 1/sim 0/nao \")\r\n",
        "res3 = input(\"Mora perto da vítima? 1/sim 0/nao \")\r\n",
        "res4 = input(\"Devia para a vítima? 1/sim 0/nao \")\r\n",
        "res5 = input(\"Já trabalhou com a vítima? 1/sim 0/nao \")\r\n",
        "resp = int(res1)+int(res2)+int(res3)+int(res4)+int(res5)\r\n",
        "if resp == 5:\r\n",
        "  print('Assassino')\r\n",
        "elif 2<resp<5 :\r\n",
        "  print('Cúmplice')\r\n",
        "elif resp == 2:\r\n",
        "  print('Suspeita')\r\n",
        "else:\r\n",
        "  print('Inocente')"
      ],
      "execution_count": null,
      "outputs": [
        {
          "output_type": "stream",
          "text": [
            "Telefonou para a vítima? 1/sim 0/nao 1\n",
            "Esteve no local do crime? 1/sim 0/nao 1\n",
            "Mora perto da vítima? 1/sim 0/nao 1\n",
            "Devia para a vítima? 1/sim 0/nao 1\n",
            "Já trabalhou com a vítima? 1/sim 0/nao 1\n",
            "Assassino\n"
          ],
          "name": "stdout"
        }
      ]
    },
    {
      "cell_type": "markdown",
      "metadata": {
        "id": "FTK9nE4pdB1D"
      },
      "source": [
        "1\n",
        "3 - A lista abaixo possui nomes de alunos de uma classe. Crie um loop que imprima '{nome} é aluno da classe'\n"
      ]
    },
    {
      "cell_type": "code",
      "metadata": {
        "id": "nW4SbDxTmx4t"
      },
      "source": [
        "nomes = ['Maria','João','Marcelo','Jonas','Laura','Luana']"
      ],
      "execution_count": null,
      "outputs": []
    },
    {
      "cell_type": "code",
      "metadata": {
        "id": "0sRr8MXCpbGP"
      },
      "source": [
        "def classe(nomes):\r\n",
        "  for i in nomes:\r\n",
        "    if i[-1] == 'a':\r\n",
        "      print(f\"{i} é aluna da classe\")\r\n",
        "    else:\r\n",
        "      print(f\"{i} é aluno da classe\")"
      ],
      "execution_count": null,
      "outputs": []
    },
    {
      "cell_type": "code",
      "metadata": {
        "colab": {
          "base_uri": "https://localhost:8080/"
        },
        "id": "GRSG0FesLn07",
        "outputId": "a733f91e-d838-42f1-f12a-c8966703d98b"
      },
      "source": [
        "classe(nomes)"
      ],
      "execution_count": null,
      "outputs": [
        {
          "output_type": "stream",
          "text": [
            "Maria é aluna da classe\n",
            "João é aluno da classe\n",
            "Marcelo é aluno da classe\n",
            "Jonas é aluno da classe\n",
            "Laura é aluna da classe\n",
            "Luana é aluna da classe\n"
          ],
          "name": "stdout"
        }
      ]
    },
    {
      "cell_type": "markdown",
      "metadata": {
        "id": "_HbJNv8MaG4g"
      },
      "source": [
        "4 - Utilizando-se da mesma lista trabalhada acima e a lista dada abaixo, que contem as idades dos alunos, realize um loop que faça a iteração com as duas listas printando \"{nome} tem {idade} anos\".\n",
        "Dica: utilize *zip*()"
      ]
    },
    {
      "cell_type": "code",
      "metadata": {
        "id": "LJDxmAbJeO9V"
      },
      "source": [
        "idades = [23,34,42,54,26,27]"
      ],
      "execution_count": null,
      "outputs": []
    },
    {
      "cell_type": "code",
      "metadata": {
        "id": "Kq1Lc7Ukps-V",
        "colab": {
          "base_uri": "https://localhost:8080/"
        },
        "outputId": "1f63f0e4-6915-44ff-df49-35fbf1ea2379"
      },
      "source": [
        "for nome,idade in zip(nomes,idades):\r\n",
        "  print(f'{nome} tem {idade} anos')"
      ],
      "execution_count": null,
      "outputs": [
        {
          "output_type": "stream",
          "text": [
            "Maria tem 23 anos\n",
            "João tem 34 anos\n",
            "Marcelo tem 42 anos\n",
            "Jonas tem 54 anos\n",
            "Laura tem 26 anos\n",
            "Luana tem 27 anos\n"
          ],
          "name": "stdout"
        }
      ]
    },
    {
      "cell_type": "markdown",
      "metadata": {
        "id": "0tkhm6EUaG1u"
      },
      "source": [
        "5 - Transforme as duas listas anteriores em um dicionário cuja chave é o nome e o valor é a idade."
      ]
    },
    {
      "cell_type": "code",
      "metadata": {
        "id": "MNINJ32eU45M"
      },
      "source": [
        "def criar_dicn(nomes,idades):\r\n",
        "  lista = zip(nomes,idades)\r\n",
        "  dicionario = {}\r\n",
        "  for i in lista:\r\n",
        "    dicionario[i[0]]=i[1]\r\n",
        "  return dicionario"
      ],
      "execution_count": null,
      "outputs": []
    },
    {
      "cell_type": "code",
      "metadata": {
        "colab": {
          "base_uri": "https://localhost:8080/"
        },
        "id": "TIE90jaRR1RJ",
        "outputId": "06363c1f-0688-4d95-f9f4-8ca480925788"
      },
      "source": [
        "criar_dicn(nomes,idades)"
      ],
      "execution_count": null,
      "outputs": [
        {
          "output_type": "execute_result",
          "data": {
            "text/plain": [
              "{'Jonas': 54, 'João': 34, 'Laura': 26, 'Luana': 27, 'Marcelo': 42, 'Maria': 23}"
            ]
          },
          "metadata": {
            "tags": []
          },
          "execution_count": 71
        }
      ]
    },
    {
      "cell_type": "markdown",
      "metadata": {
        "id": "Lm1tOKThnU42"
      },
      "source": [
        "Exercícios adaptados de Python Brasil"
      ]
    }
  ]
}